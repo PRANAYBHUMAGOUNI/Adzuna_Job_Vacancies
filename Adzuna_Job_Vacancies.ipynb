{
 "cells": [
  {
   "cell_type": "markdown",
   "id": "5b8088e1-5ff3-427c-8f18-f224d62d469f",
   "metadata": {},
   "source": [
    "# Importing Neccessary Packages"
   ]
  },
  {
   "cell_type": "code",
   "execution_count": 1,
   "id": "649586da-9a24-4d3f-b91c-a2d8d59a1d31",
   "metadata": {},
   "outputs": [],
   "source": [
    "from selenium import webdriver\n",
    "import time\n",
    "import pandas as pd\n",
    "import re\n",
    "from selenium.webdriver.common.by import By\n",
    "from selenium.webdriver.chrome.service import Service\n",
    "from selenium.webdriver.support.ui import WebDriverWait\n",
    "from selenium.webdriver.support import expected_conditions as EC"
   ]
  },
  {
   "cell_type": "markdown",
   "id": "da6f8000-f285-4fcb-b870-2f31703996fb",
   "metadata": {},
   "source": [
    "# Using URL "
   ]
  },
  {
   "cell_type": "code",
   "execution_count": 2,
   "id": "515a9ca4-e86b-491d-a39f-8229ae60fab2",
   "metadata": {},
   "outputs": [],
   "source": [
    "url1 = 'https://www.adzuna.in/search?adv=1&qwd=Artificial%20Intelligence&f=3&w=India&pp=25&sb=date&sd=down'"
   ]
  },
  {
   "cell_type": "markdown",
   "id": "88f42d3b-fbf6-4273-8357-e8b7882b9049",
   "metadata": {},
   "source": [
    "# Path to Microsoft Edge WebDriver"
   ]
  },
  {
   "cell_type": "code",
   "execution_count": 3,
   "id": "175e9dff-7e8a-4cba-a54a-39a1e7e0eb98",
   "metadata": {},
   "outputs": [],
   "source": [
    "edge_driver_path = r\"C:\\Users\\bshiv\\Downloads\\edgedriver_win64\\msedgedriver.exe\""
   ]
  },
  {
   "cell_type": "code",
   "execution_count": 4,
   "id": "0db32fbd-0ed8-467e-a543-31b80bc95d98",
   "metadata": {},
   "outputs": [],
   "source": [
    "# Creating a Service object for Edge WebDriver\n",
    "service = Service(edge_driver_path)"
   ]
  },
  {
   "cell_type": "markdown",
   "id": "c9559143-3548-4e49-8393-04d3024f3622",
   "metadata": {},
   "source": [
    "# Initializing the Edge WebDriver"
   ]
  },
  {
   "cell_type": "code",
   "execution_count": 6,
   "id": "16fa1381-26ed-4a05-ad78-0f0d5cef77c7",
   "metadata": {},
   "outputs": [],
   "source": [
    "driver = webdriver.Edge(service=service)\n",
    "\n",
    "# Setting implicit wait and loading the URL\n",
    "driver.implicitly_wait(30)\n",
    "driver.get(url1)"
   ]
  },
  {
   "cell_type": "markdown",
   "id": "748097c0-346e-42e8-80c9-fd300fcd0138",
   "metadata": {},
   "source": [
    "# Initializing a list to store job details"
   ]
  },
  {
   "cell_type": "code",
   "execution_count": 7,
   "id": "b2740b7d-b8aa-4018-8beb-85c72c829c2f",
   "metadata": {},
   "outputs": [],
   "source": [
    "job_listings = []"
   ]
  },
  {
   "cell_type": "markdown",
   "id": "839130a1-73f6-47f8-9efc-60c960f45fa0",
   "metadata": {},
   "source": [
    "# Extracting the total number of jobs"
   ]
  },
  {
   "cell_type": "code",
   "execution_count": 8,
   "id": "4a5751da-fddd-4931-b826-819627d2801d",
   "metadata": {},
   "outputs": [
    {
     "data": {
      "text/plain": [
       "370"
      ]
     },
     "execution_count": 8,
     "metadata": {},
     "output_type": "execute_result"
    }
   ],
   "source": [
    "total_jobs_text = driver.find_element(By.CLASS_NAME, 'font-semibold.inline.md\\\\:font-normal.mr-2.md\\\\:text-2xl').text\n",
    "total_jobs = int(re.findall(r'\\d+', total_jobs_text)[0]) \n",
    "total_jobs"
   ]
  },
  {
   "cell_type": "markdown",
   "id": "1a9d0c6c-6776-4ee0-94e4-6e47e198a638",
   "metadata": {},
   "source": [
    "# Scraping the URL"
   ]
  },
  {
   "cell_type": "code",
   "execution_count": 9,
   "id": "c102aaaf-43ed-4933-b702-c2352aad7048",
   "metadata": {},
   "outputs": [
    {
     "name": "stdout",
     "output_type": "stream",
     "text": [
      "No more pages to navigate.\n"
     ]
    }
   ],
   "source": [
    "while len(job_listings) < total_jobs:\n",
    "    # Scrolling to the bottom of the page to load more content \n",
    "    driver.execute_script(\"window.scrollTo(0, document.body.scrollHeight);\")\n",
    "    time.sleep(3)  \n",
    "\n",
    "    # Extracting job listings\n",
    "    jobs = driver.find_elements(By.CSS_SELECTOR, \"article\")  \n",
    "\n",
    "    for job in jobs:\n",
    "        try:\n",
    "            title = job.find_element(By.XPATH, \".//h2/a\").text\n",
    "            company = job.find_element(By.CLASS_NAME, \"ui-company\").text\n",
    "            location = job.find_element(By.CLASS_NAME, \"ui-location\").text\n",
    "            description = job.find_element(By.CLASS_NAME, \"max-snippet-height\").text\n",
    "            link = job.find_element(By.XPATH, \".//h2/a\").get_attribute(\"href\")\n",
    "\n",
    "            # Appending the job details to the list\n",
    "            job_listings.append({\n",
    "                \"Job Title\": title,\n",
    "                \"Company Name\": company,\n",
    "                \"Location\": location,\n",
    "                \"Job Description\": description,\n",
    "                \"Application Link\": link\n",
    "            })\n",
    "        except Exception as e:\n",
    "            print(f\"Error extracting job details: {e}\")\n",
    "\n",
    "    # Clicking the \"next\" link to go to the next page\n",
    "    try:\n",
    "        # Checking if the \"next\" link is present\n",
    "        next_links = driver.find_elements(By.XPATH, \"//a[contains(text(), 'next')]\")\n",
    "        if next_links:\n",
    "            next_link = next_links[0]\n",
    "            driver.execute_script(\"arguments[0].click();\", next_link)\n",
    "            time.sleep(3)  \n",
    "        else:\n",
    "            print(\"No more pages to navigate.\")\n",
    "            break\n",
    "    except Exception as e:\n",
    "        print(f\"Error navigating to the next page: {e}\")\n",
    "        break  "
   ]
  },
  {
   "cell_type": "markdown",
   "id": "0bb3cc01-c8e7-47b3-be9c-975e96af2099",
   "metadata": {},
   "source": [
    "# Converting the job listings to a DataFrame"
   ]
  },
  {
   "cell_type": "code",
   "execution_count": 10,
   "id": "a6170b35-a8a1-4a6e-9cfb-400b0ab8809b",
   "metadata": {},
   "outputs": [
    {
     "name": "stdout",
     "output_type": "stream",
     "text": [
      "                                             Job Title  \\\n",
      "0                      Senior Software Engineer, AI/ML   \n",
      "1                                  IT Security Analyst   \n",
      "2                             ITV System Test Engineer   \n",
      "3                             Senior Software Engineer   \n",
      "4           Infrastructure Specialist: Cloud Platforms   \n",
      "..                                                 ...   \n",
      "349     Helpdesk Associate - Technical Troubleshooting   \n",
      "350  TMS Product Owner - Digital Solution Cnslt. Sr...   \n",
      "351                        Systems Engineering Advisor   \n",
      "352              Helpdesk Senior Representative - ITIL   \n",
      "353            Software Development Specialist Advisor   \n",
      "\n",
      "                           Company Name  \\\n",
      "0                              VERANTOS   \n",
      "1          NEXUS COGNITIVE TECHNOLOGIES   \n",
      "2    IND APTIV COMPONENTS INDIA PRIVATE   \n",
      "3                       THOMSON REUTERS   \n",
      "4                                   IBM   \n",
      "..                                  ...   \n",
      "349                   NTT DATA SERVICES   \n",
      "350                   NTT DATA SERVICES   \n",
      "351                   NTT DATA SERVICES   \n",
      "352                   NTT DATA SERVICES   \n",
      "353                   NTT DATA SERVICES   \n",
      "\n",
      "                                      Location  \\\n",
      "0                                         PUNE   \n",
      "1                             MAHARASHTRA, IND   \n",
      "2                          IND CHENNAI - ENG 2   \n",
      "3    IND-BLR-SALARPURIA SATTVA KNOWLEDGE COURT   \n",
      "4                             BANGALORE, INDIA   \n",
      "..                                         ...   \n",
      "349                                      NOIDA   \n",
      "350                                  HYDERABAD   \n",
      "351                                      NOIDA   \n",
      "352                                      NOIDA   \n",
      "353                                      NOIDA   \n",
      "\n",
      "                                       Job Description  \\\n",
      "0    ... data sources and generates evidence with t...   \n",
      "1    , strategic decisions that drive growth and in...   \n",
      "2    ... and the forefront of solving mobility’s to...   \n",
      "3    ... as Code, CICD Pipelines Excellent and crea...   \n",
      "4    ... an early adopter of artificial intelligenc...   \n",
      "..                                                 ...   \n",
      "349  ... and artificial intelligence, industry solu...   \n",
      "350  ... and technology consulting, data and artifi...   \n",
      "351  ... and artificial intelligence, industry solu...   \n",
      "352  -up companies. Our services include business a...   \n",
      "353  ... and a robust partner ecosystem of establis...   \n",
      "\n",
      "                                      Application Link  \n",
      "0    https://www.adzuna.in/details/5026923483?title...  \n",
      "1    https://www.adzuna.in/details/5026923432?title...  \n",
      "2    https://www.adzuna.in/details/5026923304?title...  \n",
      "3    https://www.adzuna.in/details/5026923018?title...  \n",
      "4    https://www.adzuna.in/details/5026922972?title...  \n",
      "..                                                 ...  \n",
      "349  https://www.adzuna.in/details/5023152723?title...  \n",
      "350  https://www.adzuna.in/details/5023152716?title...  \n",
      "351  https://www.adzuna.in/details/5023152724?title...  \n",
      "352  https://www.adzuna.in/details/5023152679?title...  \n",
      "353  https://www.adzuna.in/details/5023152664?title...  \n",
      "\n",
      "[354 rows x 5 columns]\n"
     ]
    }
   ],
   "source": [
    "df_jobs = pd.DataFrame(job_listings)\n",
    "\n",
    "# Printing the DataFrame\n",
    "print(df_jobs)\n"
   ]
  },
  {
   "cell_type": "code",
   "execution_count": null,
   "id": "34caf566-abad-4e21-82fd-fa77f9b91c90",
   "metadata": {},
   "outputs": [],
   "source": []
  }
 ],
 "metadata": {
  "kernelspec": {
   "display_name": "Python 3 (ipykernel)",
   "language": "python",
   "name": "python3"
  },
  "language_info": {
   "codemirror_mode": {
    "name": "ipython",
    "version": 3
   },
   "file_extension": ".py",
   "mimetype": "text/x-python",
   "name": "python",
   "nbconvert_exporter": "python",
   "pygments_lexer": "ipython3",
   "version": "3.11.9"
  }
 },
 "nbformat": 4,
 "nbformat_minor": 5
}
